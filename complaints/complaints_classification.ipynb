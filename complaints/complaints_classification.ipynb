{
 "cells": [
  {
   "cell_type": "code",
   "execution_count": null,
   "metadata": {},
   "outputs": [],
   "source": [
    "# library dependencies\n",
    "!pip install transformers[torch]"
   ]
  },
  {
   "cell_type": "code",
   "execution_count": null,
   "metadata": {},
   "outputs": [],
   "source": [
    "# data dependencies\n",
    "!wget -O consumer_complaints.csv https://s3.amazonaws.com/kaggle.live/complaints/consumer_complaints.csv\n",
    "!wget -O common.py https://s3.amazonaws.com/kaggle.live/helper/common.py"
   ]
  },
  {
   "cell_type": "code",
   "execution_count": 13,
   "metadata": {},
   "outputs": [
    {
     "name": "stderr",
     "output_type": "stream",
     "text": [
      "C:\\Users\\bill\\software\\anaconda3\\lib\\site-packages\\ipykernel_launcher.py:18: FutureWarning: Passing a negative integer is deprecated in version 1.0 and will not be supported in future version. Instead, use None to not limit the column width.\n"
     ]
    }
   ],
   "source": [
    "import os\n",
    "import numpy as np\n",
    "import pandas as pd\n",
    "import torch\n",
    "import torch.nn as nn\n",
    "import torch.nn.functional as F\n",
    "import multiprocessing\n",
    "from transformers import AutoTokenizer, AutoModel, AdamW, get_linear_schedule_with_warmup\n",
    "from sklearn.model_selection import StratifiedKFold\n",
    "from tqdm.notebook import tqdm\n",
    "from common import Common, Timer\n",
    "\n",
    "import seaborn as sns\n",
    "import matplotlib.pyplot as plt\n",
    "from matplotlib.ticker import PercentFormatter\n",
    "import random\n",
    "\n",
    "pd.set_option('display.max_colwidth', -1)"
   ]
  },
  {
   "cell_type": "code",
   "execution_count": 14,
   "metadata": {},
   "outputs": [],
   "source": [
    "!rm -rf models\n",
    "!mkdir models"
   ]
  },
  {
   "cell_type": "code",
   "execution_count": 15,
   "metadata": {},
   "outputs": [],
   "source": [
    "data = pd.read_csv('consumer_complaints.csv', low_memory=False)\n",
    "data = data[~data['consumer_complaint_narrative'].isna()].reset_index()\n",
    "data = data[['product', 'consumer_complaint_narrative']].rename(columns={\n",
    "    'consumer_complaint_narrative': 'complaints'\n",
    "})\n",
    "\n",
    "products = sorted(list(data['product'].unique()))\n",
    "data['product_id'] = data['product'].apply(lambda x : products.index(x))"
   ]
  },
  {
   "cell_type": "code",
   "execution_count": 16,
   "metadata": {},
   "outputs": [
    {
     "data": {
      "text/html": [
       "<div>\n",
       "<style scoped>\n",
       "    .dataframe tbody tr th:only-of-type {\n",
       "        vertical-align: middle;\n",
       "    }\n",
       "\n",
       "    .dataframe tbody tr th {\n",
       "        vertical-align: top;\n",
       "    }\n",
       "\n",
       "    .dataframe thead th {\n",
       "        text-align: right;\n",
       "    }\n",
       "</style>\n",
       "<table border=\"1\" class=\"dataframe\">\n",
       "  <thead>\n",
       "    <tr style=\"text-align: right;\">\n",
       "      <th></th>\n",
       "      <th>product</th>\n",
       "      <th>complaints</th>\n",
       "      <th>product_id</th>\n",
       "    </tr>\n",
       "  </thead>\n",
       "  <tbody>\n",
       "    <tr>\n",
       "      <th>0</th>\n",
       "      <td>Debt collection</td>\n",
       "      <td>XXXX has claimed I owe them {$27.00} for XXXX years despite the PROOF of PAYMENT I sent them : canceled check and their ownPAID INVOICE for {$27.00}! \\nThey continue to insist I owe them and collection agencies are after me. \\nHow can I stop this harassment for a bill I already paid four years ago? \\n</td>\n",
       "      <td>4</td>\n",
       "    </tr>\n",
       "    <tr>\n",
       "      <th>1</th>\n",
       "      <td>Consumer Loan</td>\n",
       "      <td>Due to inconsistencies in the amount owed that I was told by M &amp; T Bank and the amount that was reported to the credit reporting agencies, I was advised to write a good will letter in order to address the issue and request the negative entry be removed from my credit report all together. I had a vehicle that was stolen and it was declared a total loss by insurance company. The insurance company and the GAP insurancw companypaid the outstanding balance of the loan, but I was told by M &amp; T Bank that there was still a balance due on the loan. In good faith, without having received any proof as to why there was still a balance, I made a partial payment towards the remaining debt. I then sent the goodwill letter still offering to pay the remainder of the debt, but in exchange for the removal of the negative entry on my credit report. At one point, in XXXX 2015, per my credit monitoring agency, it showed a delinquent balance of {$0.00}, but when I checked my credit report again on XXXX XXXX 2015, there was a delinquent balance of {$1400.00}. The monies from the GAP insurance and my insurance company has been paid, M &amp; T Bank says that I still owe {$620.00}, of which {$210.00} has already been paid. I contacted M &amp; T Bank via return receipt mail, but I have not been given the courtesy of a response yet. \\n</td>\n",
       "      <td>1</td>\n",
       "    </tr>\n",
       "  </tbody>\n",
       "</table>\n",
       "</div>"
      ],
      "text/plain": [
       "           product  \\\n",
       "0  Debt collection   \n",
       "1  Consumer Loan     \n",
       "\n",
       "                                                                                                                                                                                                                                                                                                                                                                                                                                                                                                                                                                                                                                                                                                                                                                                                                                                                                                                                                                                                                                                                                                                                                                                                                                                                                                                                                                 complaints  \\\n",
       "0  XXXX has claimed I owe them {$27.00} for XXXX years despite the PROOF of PAYMENT I sent them : canceled check and their ownPAID INVOICE for {$27.00}! \\nThey continue to insist I owe them and collection agencies are after me. \\nHow can I stop this harassment for a bill I already paid four years ago? \\n                                                                                                                                                                                                                                                                                                                                                                                                                                                                                                                                                                                                                                                                                                                                                                                                                                                                                                                                                                                                                                                             \n",
       "1  Due to inconsistencies in the amount owed that I was told by M & T Bank and the amount that was reported to the credit reporting agencies, I was advised to write a good will letter in order to address the issue and request the negative entry be removed from my credit report all together. I had a vehicle that was stolen and it was declared a total loss by insurance company. The insurance company and the GAP insurancw companypaid the outstanding balance of the loan, but I was told by M & T Bank that there was still a balance due on the loan. In good faith, without having received any proof as to why there was still a balance, I made a partial payment towards the remaining debt. I then sent the goodwill letter still offering to pay the remainder of the debt, but in exchange for the removal of the negative entry on my credit report. At one point, in XXXX 2015, per my credit monitoring agency, it showed a delinquent balance of {$0.00}, but when I checked my credit report again on XXXX XXXX 2015, there was a delinquent balance of {$1400.00}. The monies from the GAP insurance and my insurance company has been paid, M & T Bank says that I still owe {$620.00}, of which {$210.00} has already been paid. I contacted M & T Bank via return receipt mail, but I have not been given the courtesy of a response yet. \\n   \n",
       "\n",
       "   product_id  \n",
       "0  4           \n",
       "1  1           "
      ]
     },
     "execution_count": 16,
     "metadata": {},
     "output_type": "execute_result"
    }
   ],
   "source": [
    "data.head(n=2)"
   ]
  },
  {
   "cell_type": "code",
   "execution_count": 17,
   "metadata": {},
   "outputs": [
    {
     "name": "stdout",
     "output_type": "stream",
     "text": [
      "Debt collection            26.27\n",
      "Mortgage                   22.33\n",
      "Credit reporting           18.75\n",
      "Credit card                11.87\n",
      "Bank account or service    8.55 \n",
      "Consumer Loan              5.51 \n",
      "Student loan               3.19 \n",
      "Prepaid card               1.29 \n",
      "Payday loan                1.09 \n",
      "Money transfers            1.00 \n",
      "Other financial service    0.16 \n",
      "Name: product, dtype: float64\n"
     ]
    },
    {
     "name": "stderr",
     "output_type": "stream",
     "text": [
      "C:\\Users\\bill\\software\\anaconda3\\lib\\site-packages\\ipykernel_launcher.py:11: UserWarning: FixedFormatter should only be used together with FixedLocator\n",
      "  # This is added back by InteractiveShellApp.init_path()\n"
     ]
    },
    {
     "data": {
      "image/png": "[encoded data removed]",
      "text/plain": [
       "<Figure size 432x288 with 1 Axes>"
      ]
     },
     "metadata": {
      "needs_background": "light"
     },
     "output_type": "display_data"
    }
   ],
   "source": [
    "# print product distribution\n",
    "def print_prod_dist(x):\n",
    "    print(round(x['product'].value_counts() / x.shape[0] * 100, 2))\n",
    "\n",
    "print_prod_dist(data)\n",
    "\n",
    "# show complaint length distribution\n",
    "x = data['complaints']\n",
    "ax = sns.distplot(x.str.split().apply(len))\n",
    "ax.set(xlabel='Complaints Length', ylabel='Distribution')\n",
    "ax.set_yticklabels(['{:,.0%}'.format(y) for y in ax.get_yticks()])\n",
    "plt.show()"
   ]
  },
  {
   "cell_type": "code",
   "execution_count": 18,
   "metadata": {},
   "outputs": [],
   "source": [
    "MAX_WORKERS = multiprocessing.cpu_count() - 1\n",
    "B = 8\n",
    "E = 5\n",
    "#T = 800\n",
    "T = 512\n",
    "Y = len(data['product'].unique())\n",
    "\n",
    "# truncate complaints\n",
    "data['complaints'] = data['complaints'].apply(lambda x : x[:T])"
   ]
  },
  {
   "cell_type": "code",
   "execution_count": 19,
   "metadata": {},
   "outputs": [
    {
     "name": "stdout",
     "output_type": "stream",
     "text": [
      "## Training Dataset: 54112\n",
      "Debt collection            26.27\n",
      "Mortgage                   22.33\n",
      "Credit reporting           18.75\n",
      "Credit card                11.87\n",
      "Bank account or service    8.55 \n",
      "Consumer Loan              5.51 \n",
      "Student loan               3.18 \n",
      "Prepaid card               1.29 \n",
      "Payday loan                1.09 \n",
      "Money transfers            1.00 \n",
      "Other financial service    0.16 \n",
      "Name: product, dtype: float64\n",
      "\n",
      "## Validation Dataset: 6013\n",
      "Debt collection            26.28\n",
      "Mortgage                   22.33\n",
      "Credit reporting           18.74\n",
      "Credit card                11.86\n",
      "Bank account or service    8.55 \n",
      "Consumer Loan              5.50 \n",
      "Student loan               3.19 \n",
      "Prepaid card               1.30 \n",
      "Payday loan                1.08 \n",
      "Money transfers            1.00 \n",
      "Other financial service    0.17 \n",
      "Name: product, dtype: float64\n",
      "\n",
      "## Test Dataset: 6681\n",
      "Debt collection            26.28\n",
      "Mortgage                   22.33\n",
      "Credit reporting           18.75\n",
      "Credit card                11.87\n",
      "Bank account or service    8.55 \n",
      "Consumer Loan              5.49 \n",
      "Student loan               3.19 \n",
      "Prepaid card               1.29 \n",
      "Payday loan                1.08 \n",
      "Money transfers            1.00 \n",
      "Other financial service    0.16 \n",
      "Name: product, dtype: float64\n"
     ]
    }
   ],
   "source": [
    "# doing k-folds to generate training, validation, and test datasets\n",
    "np.random.seed(0)\n",
    "\n",
    "skf1 = StratifiedKFold(n_splits=10)\n",
    "skf2 = StratifiedKFold(n_splits=10)\n",
    "dfs = []\n",
    "for i, j in skf1.split(list(data['complaints']), list(data['product_id'])):\n",
    "    data_df = data.iloc[i].copy().reset_index(drop=True)\n",
    "    test_df = data.iloc[j].copy().reset_index(drop=True)\n",
    "    for i, j in skf2.split(list(data_df['complaints']), list(data_df['product_id'])):\n",
    "        train_df = data_df.iloc[i].copy().reset_index(drop=True)\n",
    "        valid_df = data_df.iloc[j].copy().reset_index(drop=True)\n",
    "        break\n",
    "    dfs.append([ train_df, valid_df, test_df ])\n",
    "\n",
    "train_df, valid_df, test_df = dfs[0]\n",
    "print('## Training Dataset: {}'.format(train_df.shape[0]))\n",
    "print_prod_dist(train_df)\n",
    "\n",
    "print('\\n## Validation Dataset: {}'.format(valid_df.shape[0]))\n",
    "print_prod_dist(valid_df)\n",
    "\n",
    "print('\\n## Test Dataset: {}'.format(test_df.shape[0]))\n",
    "print_prod_dist(test_df)"
   ]
  },
  {
   "cell_type": "code",
   "execution_count": 20,
   "metadata": {},
   "outputs": [],
   "source": [
    "class Model(nn.Module):\n",
    "    \n",
    "    #model = 'distilbert-base-cased'\n",
    "    def __init__(self, model, T, Y, device):\n",
    "        super(Model, self).__init__()\n",
    "        self.T = T\n",
    "        self.device = device\n",
    "        self.tokenizer = AutoTokenizer.from_pretrained(model, do_lower_case=True)\n",
    "        self.model = AutoModel.from_pretrained(model)\n",
    "        # move the first three layers\n",
    "        #for _ in range(4):\n",
    "        #    self.model.transformer.layer.__delitem__(0)\n",
    "        self.linear = nn.Linear(768, Y)\n",
    "        self.dropout = nn.Dropout(0.2)\n",
    "        \n",
    "    def forward(self, inputs):\n",
    "        tokens = self.tokenizer.batch_encode_plus(\n",
    "            inputs, \n",
    "            add_special_tokens=True, \n",
    "            return_tensors='pt', \n",
    "            padding=True\n",
    "        )['input_ids'].to(self.device)\n",
    "        output = self.model(tokens)[0][:,0,:]\n",
    "        output = self.dropout(output)\n",
    "        output = self.linear(output)\n",
    "        return output\n",
    "    \n",
    "def scoring(device, model, criterion, iterator):\n",
    "    yhats = []\n",
    "    with torch.no_grad():\n",
    "        total_loss = []\n",
    "        total_accy = []\n",
    "        for x, y, _ in iterator:\n",
    "            scores = model(x)\n",
    "            loss = criterion(scores, y.to(device).long())\n",
    "            total_loss.append(loss.item())\n",
    "            total_accy.append(Common.accuracy(scores, y, device))\n",
    "            for i in np.argmax(scores.detach().cpu().numpy(), axis=1):\n",
    "                yhats.append(i)\n",
    "    return np.mean(total_loss), np.mean(total_accy), yhats\n",
    "\n",
    "np.random.seed(0)\n",
    "torch.manual_seed(0)\n",
    "torch.backends.cudnn.deterministic = True\n",
    "torch.backends.cudnn.benchmark = False"
   ]
  },
  {
   "cell_type": "code",
   "execution_count": 21,
   "metadata": {},
   "outputs": [
    {
     "name": "stdout",
     "output_type": "stream",
     "text": [
      "num of params: 66371339\n"
     ]
    },
    {
     "data": {
      "application/vnd.jupyter.widget-view+json": {
       "model_id": "96c19f1eb42847f1be7fb0e20f9127e2",
       "version_major": 2,
       "version_minor": 0
      },
      "text/plain": [
       "HBox(children=(FloatProgress(value=0.0, max=6764.0), HTML(value='')))"
      ]
     },
     "metadata": {},
     "output_type": "display_data"
    },
    {
     "name": "stdout",
     "output_type": "stream",
     "text": [
      "\n",
      "epoch: 0, train_loss: 0.57, valid_loss: 0.53, train_accy: 82.94%, valid_accy: 84.75%, time: 00:11:49\n"
     ]
    },
    {
     "data": {
      "application/vnd.jupyter.widget-view+json": {
       "model_id": "4565f8e8af24419f852048230b4dfefe",
       "version_major": 2,
       "version_minor": 0
      },
      "text/plain": [
       "HBox(children=(FloatProgress(value=0.0, max=6764.0), HTML(value='')))"
      ]
     },
     "metadata": {},
     "output_type": "display_data"
    },
    {
     "name": "stdout",
     "output_type": "stream",
     "text": [
      "\n",
      "epoch: 1, train_loss: 0.36, valid_loss: 0.57, train_accy: 90.26%, valid_accy: 86.28%, time: 00:11:47\n"
     ]
    },
    {
     "data": {
      "application/vnd.jupyter.widget-view+json": {
       "model_id": "b9cec2d605814cfcb0eb9530cff7039c",
       "version_major": 2,
       "version_minor": 0
      },
      "text/plain": [
       "HBox(children=(FloatProgress(value=0.0, max=6764.0), HTML(value='')))"
      ]
     },
     "metadata": {},
     "output_type": "display_data"
    },
    {
     "name": "stdout",
     "output_type": "stream",
     "text": [
      "\n",
      "epoch: 2, train_loss: 0.21, valid_loss: 0.69, train_accy: 94.84%, valid_accy: 85.92%, time: 00:11:41\n"
     ]
    },
    {
     "data": {
      "application/vnd.jupyter.widget-view+json": {
       "model_id": "8131dc28af5044b9a8818caeb8c6a501",
       "version_major": 2,
       "version_minor": 0
      },
      "text/plain": [
       "HBox(children=(FloatProgress(value=0.0, max=6764.0), HTML(value='')))"
      ]
     },
     "metadata": {},
     "output_type": "display_data"
    },
    {
     "name": "stdout",
     "output_type": "stream",
     "text": [
      "\n",
      "epoch: 3, train_loss: 0.097, valid_loss: 0.84, train_accy: 97.80%, valid_accy: 85.67%, time: 00:11:30\n"
     ]
    },
    {
     "data": {
      "application/vnd.jupyter.widget-view+json": {
       "model_id": "bb7b371495c34dfb9ba5cd07592d0bfc",
       "version_major": 2,
       "version_minor": 0
      },
      "text/plain": [
       "HBox(children=(FloatProgress(value=0.0, max=6764.0), HTML(value='')))"
      ]
     },
     "metadata": {},
     "output_type": "display_data"
    },
    {
     "name": "stdout",
     "output_type": "stream",
     "text": [
      "\n",
      "epoch: 4, train_loss: 0.037, valid_loss: 0.92, train_accy: 99.13%, valid_accy: 85.42%, time: 00:11:20\n",
      "test_loss: 0.94\n",
      "test_accy: 85.33%\n"
     ]
    }
   ],
   "source": [
    "lr = 2e-5 #[2e-5, 3e-5, 4e-5, 5e-5]:\n",
    "\n",
    "device = Common.device()\n",
    "predict_df = []\n",
    "\n",
    "k = 0\n",
    "train_df, valid_df, test_df = dfs[0]\n",
    "\n",
    "itrain = Common.generator(X=train_df['complaints'], Y=train_df['product_id'], batch_size=B, shuffle=True)\n",
    "ivalid = Common.generator(X=valid_df['complaints'], Y=valid_df['product_id'], batch_size=B, shuffle=True)\n",
    "itest = Common.generator(X=test_df['complaints'], Y=test_df['product_id'], batch_size=B, shuffle=False)\n",
    "\n",
    "# \n",
    "model = Model('distilbert-base-uncased', T, Y, device).to(device)\n",
    "num_params = sum(p.numel() for p in model.parameters() if p.requires_grad)\n",
    "print('num of params: {}'.format(num_params))\n",
    "\n",
    "optimizer = AdamW(model.parameters(),\n",
    "    lr = lr, \n",
    "    eps = 1e-8, \n",
    "    weight_decay = 0.01\n",
    ")\n",
    "\n",
    "criterion = Common.criterion()\n",
    "\n",
    "# Create the learning rate scheduler.\n",
    "scheduler = get_linear_schedule_with_warmup(\n",
    "    optimizer, \n",
    "    num_warmup_steps = 1, # Default value in run_glue.py\n",
    "    num_training_steps = len(itrain) * E)\n",
    "\n",
    "seed_val = 0\n",
    "\n",
    "random.seed(seed_val)\n",
    "np.random.seed(seed_val)\n",
    "torch.manual_seed(seed_val)\n",
    "torch.cuda.manual_seed_all(seed_val)\n",
    "\n",
    "best_loss = 999\n",
    "best_model = None\n",
    "best_epoch = 0\n",
    "\n",
    "for epoch in range(E):\n",
    "    t = Timer()\n",
    "    total_loss = []\n",
    "    total_accy = []\n",
    "    for x, y, _ in tqdm(itrain):\n",
    "\n",
    "        # step 1. Remember that Pytorch accumulates gradients.\n",
    "        # We need to clear them out before each instance\n",
    "        model.zero_grad()\n",
    "\n",
    "        # step 3. Run our forward pass.\n",
    "        scores = model(x)\n",
    "\n",
    "        # step 4. Compute the loss, gradients, and update the parameters by\n",
    "        loss = criterion(scores, y.to(device).long())\n",
    "        total_loss.append(loss.item())\n",
    "        total_accy.append(Common.accuracy(scores, y, device))\n",
    "\n",
    "        loss.backward()\n",
    "        nn.utils.clip_grad_norm_(model.parameters(), 1.0)\n",
    "\n",
    "        optimizer.step()\n",
    "        scheduler.step()\n",
    "\n",
    "    train_loss, train_accy = np.mean(total_loss), np.mean(total_accy)\n",
    "    valid_loss, valid_accy, _ = scoring(device, model, criterion, ivalid)\n",
    "\n",
    "    if valid_loss < best_loss:\n",
    "        Common.save_checkpoint({\n",
    "            'loss': valid_loss,\n",
    "            'accuracy': valid_accy,\n",
    "            'state_dict': model.state_dict(),\n",
    "            'optimizer': optimizer.state_dict(),\n",
    "        }, './models/model_{}.tar'.format(k))\n",
    "        best_model = model\n",
    "        best_epoch = epoch\n",
    "        best_loss = valid_loss\n",
    "\n",
    "    print(', '.join([\n",
    "        'epoch: {}'.format(epoch),\n",
    "        'train_loss: {:3.2}'.format(train_loss),\n",
    "        'valid_loss: {:3.2}'.format(valid_loss),\n",
    "        'train_accy: {:3.2%}'.format(train_accy),\n",
    "        'valid_accy: {:3.2%}'.format(valid_accy),\n",
    "        'time: {}'.format(t.get())\n",
    "    ]))\n",
    "\n",
    "test_loss, test_accy, test_yhats = scoring(device, best_model, criterion, itest)\n",
    "print('test_loss: {:3.2}'.format(test_loss))\n",
    "print('test_accy: {:3.2%}'.format(test_accy))\n",
    "\n",
    "tmp = test_df.copy()\n",
    "tmp['predicted_product'] = test_yhats\n",
    "tmp['predicted_product'] = tmp['predicted_product'].apply(lambda x : products[x])\n",
    "predict_df.append(tmp)\n",
    "\n",
    "predict_df = pd.concat(predict_df, ignore_index=True)"
   ]
  }
 ],
 "metadata": {
  "kernelspec": {
   "display_name": "Python 3",
   "language": "python",
   "name": "python3"
  },
  "language_info": {
   "codemirror_mode": {
    "name": "ipython",
    "version": 3
   },
   "file_extension": ".py",
   "mimetype": "text/x-python",
   "name": "python",
   "nbconvert_exporter": "python",
   "pygments_lexer": "ipython3",
   "version": "3.7.4"
  }
 },
 "nbformat": 4,
 "nbformat_minor": 4
}
