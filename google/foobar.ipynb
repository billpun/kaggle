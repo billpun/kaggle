{
 "cells": [
  {
   "cell_type": "code",
   "execution_count": null,
   "metadata": {},
   "outputs": [],
   "source": [
    "# challenge 1\n",
    "# all lowercase letters need to be decoded in reverse\n",
    "\n",
    "from string import ascii_lowercase\n",
    "\n",
    "def solution(x):\n",
    "    size = len(ascii_lowercase)\n",
    "    out = ''\n",
    "    for i in range(len(x)):\n",
    "        if x[i] in ascii_lowercase:\n",
    "            j = ascii_lowercase.index(x[i])\n",
    "            out += ascii_lowercase[size - 1 - j]\n",
    "        else:\n",
    "            out += x[i]\n",
    "    return out\n",
    "\n",
    "solution(\"wrw blf hvv ozhg mrtsg'h vkrhlwv?\")"
   ]
  },
  {
   "cell_type": "code",
   "execution_count": 62,
   "metadata": {},
   "outputs": [],
   "source": [
    "# As a henchman on Commander Lambda's space station, you're expected to be resourceful, smart, and a quick thinker. It's not easy building a doomsday device and capturing bunnies at the same time, after all! In order to make sure that everyone working \n",
    "# for her is sufficiently quick-witted, Commander Lambda has installed new flooring outside the henchman dormitories. It looks like a chessboard, and every morning and evening you have to solve a new movement puzzle in order to cross the floor. That would be fine \n",
    "# if you got to be the rook or the queen, but instead, you have to be the knight. Worse, if you take too much time solving the puzzle, you get \"volunteered\" as a test subject for the LAMBCHOP doomsday device!\n",
    "\n",
    "# To help yourself get to and from your bunk every day, write a function called solution(src, dest) which takes in two parameters: the source square, on which you start, and the destination square, which is where you need to land to solve the puzzle.  The function \n",
    "# should return an integer representing the smallest number of moves it will take for you to travel from the source square to the destination square using a chess knight's moves (that is, two squares in any direction immediately followed by one square \n",
    "# perpendicular to that direction, or vice versa, in an \"L\" shape).  Both the source and destination squares will be an integer between 0 and 63, inclusive, and are numbered like the example chessboard below:\n",
    "\n",
    "# -------------------------\n",
    "# | 0| 1| 2| 3| 4| 5| 6| 7|\n",
    "# -------------------------\n",
    "# | 8| 9|10|11|12|13|14|15|\n",
    "# -------------------------\n",
    "# |16|17|18|19|20|21|22|23|\n",
    "# -------------------------\n",
    "# |24|25|26|27|28|29|30|31|\n",
    "# -------------------------\n",
    "# |32|33|34|35|36|37|38|39|\n",
    "# -------------------------\n",
    "# |40|41|42|43|44|45|46|47|\n",
    "# -------------------------\n",
    "# |48|49|50|51|52|53|54|55|\n",
    "# -------------------------\n",
    "# |56|57|58|59|60|61|62|63|\n",
    "# -------------------------\n",
    "\n",
    "def get_index(node):\n",
    "    i = node // 8\n",
    "    j = node % 8\n",
    "    return (i, j)\n",
    "\n",
    "def feasible_next(i, j):\n",
    "    out = []\n",
    "    # -,-\n",
    "    if i - 2 >= 0 and j - 1 >= 0:\n",
    "        out.append((i - 2, j - 1))\n",
    "    if i - 1 >= 0 and j - 2 >= 0:\n",
    "        out.append((i - 1, j - 2))\n",
    "    # +,-\n",
    "    if i + 2 < 8 and j - 1 >= 0:\n",
    "        out.append((i + 2, j - 1))\n",
    "    if i + 1 < 8 and j - 2 >= 0:\n",
    "        out.append((i + 1, j - 2))\n",
    "    # -,+\n",
    "    if i - 2 >= 0 and j + 1 < 8:\n",
    "        out.append((i - 2, j + 1))\n",
    "    if i - 1 >= 0 and j + 2 < 8:\n",
    "        out.append((i - 1, j + 2))\n",
    "    # +,+\n",
    "    if i + 2 < 8 and j + 1 < 8:\n",
    "        out.append((i + 2, j + 1))\n",
    "    if i + 1 < 8 and j + 2 < 8:\n",
    "        out.append((i + 1, j + 2))\n",
    "    return out\n",
    "\n",
    "def solution(src, dest):\n",
    "    if src == dest: return 0\n",
    "    source = get_index(src)\n",
    "    destin = get_index(dest)\n",
    "    paths = [ [ source ] ]\n",
    "    best_path = [(0,0)] * 999\n",
    "    while True:    \n",
    "        new_paths = []\n",
    "        for path in paths:\n",
    "            for next_node in feasible_next(*path[-1]):\n",
    "                if next_node not in path:\n",
    "                    new_path = path + [ next_node ]\n",
    "                    if len(new_path) < len(best_path):\n",
    "                        if next_node == destin:\n",
    "                            best_path = new_path \n",
    "                        else:\n",
    "                            new_paths.append(new_path)\n",
    "        if len(new_paths) == 0:\n",
    "            break\n",
    "        else:\n",
    "            paths = new_paths\n",
    "    return len(best_path) - 1"
   ]
  },
  {
   "cell_type": "code",
   "execution_count": 63,
   "metadata": {},
   "outputs": [
    {
     "data": {
      "text/plain": [
       "3"
      ]
     },
     "execution_count": 63,
     "metadata": {},
     "output_type": "execute_result"
    }
   ],
   "source": [
    "solution(62, 63)"
   ]
  }
 ],
 "metadata": {
  "kernelspec": {
   "display_name": "Python 3",
   "language": "python",
   "name": "python3"
  },
  "language_info": {
   "codemirror_mode": {
    "name": "ipython",
    "version": 3
   },
   "file_extension": ".py",
   "mimetype": "text/x-python",
   "name": "python",
   "nbconvert_exporter": "python",
   "pygments_lexer": "ipython3",
   "version": "3.7.4"
  }
 },
 "nbformat": 4,
 "nbformat_minor": 4
}
